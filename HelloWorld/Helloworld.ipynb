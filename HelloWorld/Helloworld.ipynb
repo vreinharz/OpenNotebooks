{
 "metadata": {
  "name": "",
  "signature": "sha256:e6080c88002aa130af3b9002c09ff04ce3829d89fc38ae7194fa4023cc5cac3b"
 },
 "nbformat": 3,
 "nbformat_minor": 0,
 "worksheets": [
  {
   "cells": [
    {
     "cell_type": "markdown",
     "metadata": {},
     "source": [
      "#Hello world!\n",
      "##This is a Hello World program\n",
      "\n",
      "\n",
      "Hello_World will print Hello World!"
     ]
    },
    {
     "cell_type": "code",
     "collapsed": false,
     "input": [
      "def hello_world():\n",
      "    \"\"\"I print 'Hello World!' \"\"\"\n",
      "    print(\"Hello World!\")"
     ],
     "language": "python",
     "metadata": {},
     "outputs": [],
     "prompt_number": 6
    },
    {
     "cell_type": "markdown",
     "metadata": {},
     "source": [
      "If invoked, will print hello world"
     ]
    },
    {
     "cell_type": "code",
     "collapsed": false,
     "input": [
      "hello_world()"
     ],
     "language": "python",
     "metadata": {},
     "outputs": [
      {
       "output_type": "stream",
       "stream": "stdout",
       "text": [
        "Hello World!\n"
       ]
      }
     ],
     "prompt_number": 7
    },
    {
     "cell_type": "code",
     "collapsed": false,
     "input": [
      "help(hello_world)"
     ],
     "language": "python",
     "metadata": {},
     "outputs": [
      {
       "output_type": "stream",
       "stream": "stdout",
       "text": [
        "Help on function hello_world in module __main__:\n",
        "\n",
        "hello_world()\n",
        "    I print 'Hello World!'\n",
        "\n"
       ]
      }
     ],
     "prompt_number": 9
    },
    {
     "cell_type": "code",
     "collapsed": false,
     "input": [],
     "language": "python",
     "metadata": {},
     "outputs": []
    }
   ],
   "metadata": {}
  }
 ]
}